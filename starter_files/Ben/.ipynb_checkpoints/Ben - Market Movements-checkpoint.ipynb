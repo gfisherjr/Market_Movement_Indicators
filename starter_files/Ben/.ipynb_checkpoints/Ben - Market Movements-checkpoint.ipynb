{
 "cells": [
  {
   "cell_type": "code",
   "execution_count": null,
   "metadata": {},
   "outputs": [],
   "source": [
    "import pandas as pd\n",
    "from datetime import datetime\n",
    "import matplotlib.pyplot as plt\n",
    "from pandas.plotting import register_matplotlib_converters\n",
    "register_matplotlib_converters()\n",
    "import scipy.stats as sts\n",
    "import quandl\n",
    "import os\n",
    "from config import api_key\n",
    "import numpy as np\n",
    "from scipy import stats\n",
    "from scipy.stats import linregress\n",
    "from scipy.stats import pearsonr"
   ]
  },
  {
   "cell_type": "code",
   "execution_count": null,
   "metadata": {},
   "outputs": [],
   "source": [
    "# Importing Quandl data using the API"
   ]
  },
  {
   "cell_type": "code",
   "execution_count": null,
   "metadata": {},
   "outputs": [],
   "source": [
    "try:\n",
    "    B_Spread = quandl.get(\"ML/BEY\", authtoken=api_key)\n",
    "    Treasury_curve = quandl.get(\"USTREASURY/YIELD\", authtoken=api_key)\n",
    "    SP_500 = quandl.get(\"CHRIS/CME_ES2\")\n",
    "except Exception as e:\n",
    "    print(e)"
   ]
  },
  {
   "cell_type": "markdown",
   "metadata": {},
   "source": [
    "## S&P500 DataFrame"
   ]
  },
  {
   "cell_type": "code",
   "execution_count": null,
   "metadata": {},
   "outputs": [],
   "source": [
    "SP_500.reset_index(inplace=True)\n",
    "SP_500"
   ]
  },
  {
   "cell_type": "code",
   "execution_count": null,
   "metadata": {},
   "outputs": [],
   "source": [
    "# Sub data frame with Settle Price only\n",
    "SP500_Price_df = pd.DataFrame({'Date': SP_500['Date'],\n",
    "                               'Closing Price': SP_500['Settle']\n",
    "                              })\n",
    "SP500_Price_df"
   ]
  },
  {
   "cell_type": "markdown",
   "metadata": {},
   "source": [
    "## Resetting B Spread dataframe "
   ]
  },
  {
   "cell_type": "code",
   "execution_count": null,
   "metadata": {},
   "outputs": [],
   "source": [
    "B_Spread.reset_index(inplace=True)\n",
    "B_Spread.columns = ['Date','B Rating']\n",
    "B_Spread"
   ]
  },
  {
   "cell_type": "code",
   "execution_count": null,
   "metadata": {},
   "outputs": [],
   "source": [
    "# Convert to datetime object\n",
    "B_Spread['Date'] = pd.to_datetime(B_Spread['Date'])"
   ]
  },
  {
   "cell_type": "code",
   "execution_count": null,
   "metadata": {},
   "outputs": [],
   "source": [
    "# Filter dates\n",
    "New_B_Spread = B_Spread.loc[(B_Spread['Date']>='1997-09-09')]\n",
    "New_B_Spread"
   ]
  },
  {
   "cell_type": "markdown",
   "metadata": {},
   "source": [
    "## Treasury Curve DataFrame"
   ]
  },
  {
   "cell_type": "code",
   "execution_count": null,
   "metadata": {},
   "outputs": [],
   "source": [
    "# Resetting the index\n",
    "Treasury_curve = Treasury_curve.reset_index()"
   ]
  },
  {
   "cell_type": "code",
   "execution_count": null,
   "metadata": {},
   "outputs": [],
   "source": [
    "# Converting to datetime objects \n",
    "Treasury_curve['Date'] = pd.to_datetime(Treasury_curve['Date'])\n",
    "Treasury_curve"
   ]
  },
  {
   "cell_type": "code",
   "execution_count": null,
   "metadata": {},
   "outputs": [],
   "source": [
    "# Filtering the dates to match S&P500\n",
    "New_Treasury_curve = Treasury_curve.loc[(Treasury_curve['Date']>='1997-09-09')]\n",
    "New_Treasury_curve"
   ]
  },
  {
   "cell_type": "code",
   "execution_count": null,
   "metadata": {},
   "outputs": [],
   "source": [
    "# Final Treasury DataFrame\n",
    "Treasury_5_Year = pd.DataFrame({'Date': New_Treasury_curve['Date'],\n",
    "                                '5 Year Rate': New_Treasury_curve['5 YR']\n",
    "                               })\n",
    "Treasury_5_Year"
   ]
  },
  {
   "cell_type": "markdown",
   "metadata": {},
   "source": [
    "## Merging DataFrames"
   ]
  },
  {
   "cell_type": "code",
   "execution_count": null,
   "metadata": {},
   "outputs": [],
   "source": [
    "SP500_BondSpread_df = pd.merge(SP500_Price_df,New_B_Spread, on='Date')"
   ]
  },
  {
   "cell_type": "code",
   "execution_count": null,
   "metadata": {},
   "outputs": [],
   "source": [
    "SP500_BondSpread_df"
   ]
  },
  {
   "cell_type": "code",
   "execution_count": null,
   "metadata": {},
   "outputs": [],
   "source": [
    "# Final DataFrame\n",
    "Final_Market_Data_df = pd.merge(SP500_BondSpread_df,Treasury_5_Year,on='Date')"
   ]
  },
  {
   "cell_type": "code",
   "execution_count": null,
   "metadata": {},
   "outputs": [],
   "source": [
    "Final_Market_Data_df"
   ]
  },
  {
   "cell_type": "markdown",
   "metadata": {},
   "source": [
    "## DataFrame Calculations\n",
    "- Calculate the Credit Spread (B rated yields - 5Yr Treasury Rate)\n",
    "- Calculate the SP500, B rating yield and 5Yr Treasruy returns"
   ]
  },
  {
   "cell_type": "code",
   "execution_count": null,
   "metadata": {},
   "outputs": [],
   "source": [
    "# Yield Spread Calculation\n",
    "Final_Market_Data_df['Yield Spread'] = Final_Market_Data_df['B Rating'] - Final_Market_Data_df['5 Year Rate']\n",
    "\n",
    "# Calculating S&P500 Returns\n",
    "Final_Market_Data_df['S&P 500 Returns'] = Final_Market_Data_df['Closing Price'].pct_change()\n",
    "\n",
    "# Calculating Yield Spread Returns\n",
    "Final_Market_Data_df['Yield Spread Returns'] = Final_Market_Data_df['Yield Spread'].pct_change()"
   ]
  },
  {
   "cell_type": "code",
   "execution_count": null,
   "metadata": {},
   "outputs": [],
   "source": [
    "Final_Market_Data_df"
   ]
  },
  {
   "cell_type": "code",
   "execution_count": null,
   "metadata": {},
   "outputs": [],
   "source": [
    "# Plotting the Spread\n",
    "fig = plt.figure(figsize = (20,10))\n",
    "\n",
    "plt.plot(Final_Market_Data_df['Date'],Final_Market_Data_df['Yield Spread'],'-g', label=\"Yield Spread\")\n",
    "plt.grid(True)\n",
    "plt.title('Junk Bond vs 5 Year Treasury Spread')"
   ]
  },
  {
   "cell_type": "markdown",
   "metadata": {},
   "source": [
    "## Correlation/Z-Score Parameters"
   ]
  },
  {
   "cell_type": "code",
   "execution_count": null,
   "metadata": {},
   "outputs": [],
   "source": [
    "# Correlation\n",
    "Rolling_window = 55\n",
    "\n",
    "Final_Market_Data_df['Correl'+ str(Rolling_window) + 'day'] = Final_Market_Data_df['S&P 500 Returns'].rolling(window=Rolling_window).corr(Final_Market_Data_df['Yield Spread Returns'])\n",
    "Final_Market_Data_df\n",
    "\n",
    "# Standard derviation\n",
    "Final_Market_Data_df[str(Rolling_window)+ 'Day std'] = Final_Market_Data_df['Correl'+ str(Rolling_window) + 'day'].rolling(Rolling_window).std()\n",
    "Final_Market_Data_df\n",
    "\n",
    "# Rolling Mean\n",
    "Final_Market_Data_df[str(Rolling_window)+ 'Day Mean'] = Final_Market_Data_df['Correl'+ str(Rolling_window) + 'day'].rolling(Rolling_window).mean()\n",
    "\n",
    "# Rolling Z-Score\n",
    "Final_Market_Data_df[str(Rolling_window)+ 'Z-Score'] = ((Final_Market_Data_df['Correl'+ str(Rolling_window) + 'day'] - Final_Market_Data_df[str(Rolling_window)+ 'Day Mean'])/Final_Market_Data_df[str(Rolling_window)+ 'Day std'])\n"
   ]
  },
  {
   "cell_type": "code",
   "execution_count": null,
   "metadata": {},
   "outputs": [],
   "source": [
    "Final_Market_Data_df.columns = ['Date','Closing_Price','B_Rating', '5_YR','Yield_Spread','SP500_Returns','Yield_Spread_Returns','Correl55day','55Day_Std','55Day_Mean','Z_Score']"
   ]
  },
  {
   "cell_type": "code",
   "execution_count": null,
   "metadata": {},
   "outputs": [],
   "source": [
    "Final_Market_Data_df"
   ]
  },
  {
   "cell_type": "markdown",
   "metadata": {},
   "source": [
    "## Saving Market Data DF to csv"
   ]
  },
  {
   "cell_type": "code",
   "execution_count": null,
   "metadata": {},
   "outputs": [],
   "source": [
    "Final_Market_Data_df.to_csv('Ben_Final2_Data_df.csv', encoding='utf-8')"
   ]
  },
  {
   "cell_type": "code",
   "execution_count": null,
   "metadata": {},
   "outputs": [],
   "source": [
    "Ben_Pnl_df = Final_Market_Data_df[Final_Market_Data_df['Date']>='1998-03-31']"
   ]
  },
  {
   "cell_type": "code",
   "execution_count": null,
   "metadata": {},
   "outputs": [],
   "source": [
    "pnl_csv = pd.read_csv('Ben_PnL_Final.csv')"
   ]
  },
  {
   "cell_type": "code",
   "execution_count": null,
   "metadata": {},
   "outputs": [],
   "source": [
    "pnl_csv"
   ]
  },
  {
   "cell_type": "markdown",
   "metadata": {},
   "source": [
    "## Charts"
   ]
  },
  {
   "cell_type": "code",
   "execution_count": null,
   "metadata": {},
   "outputs": [],
   "source": [
    "# Plotting the PnL\n",
    "fig = plt.figure(figsize = (10,10))\n",
    "\n",
    "plt.plot(pnl_csv['Date'],pnl_csv['CapitalGrowth'],'-b', label=\"Yield Spread\")\n",
    "plt.grid(True)\n",
    "plt.title('Capital Growth over time')"
   ]
  },
  {
   "cell_type": "code",
   "execution_count": null,
   "metadata": {},
   "outputs": [],
   "source": []
  },
  {
   "cell_type": "markdown",
   "metadata": {},
   "source": [
    "## Z-Score/Correl Plots"
   ]
  },
  {
   "cell_type": "code",
   "execution_count": null,
   "metadata": {},
   "outputs": [],
   "source": [
    "# fig = plt.figure(figsize = (20,10))\n",
    "\n",
    "# plt.plot(Final_Market_Data_df['Date'],Final_Market_Data_df[str(Rolling_window)+ 'Z-Score'],'-g', label=\"Z-Score\")\n",
    "# plt.grid(True)\n",
    "# plt.title('Correlation Z-Score ')\n",
    "\n",
    "# Generating the chart\n",
    "fig1 = plt.figure(figsize = (20,10))\n",
    "\n",
    "ax3 = fig1.add_subplot(111)\n",
    "line3 = ax3.plot(Final_Market_Data_df['Date'],Final_Market_Data_df[str(Rolling_window)+ 'Z-Score'],'-r', label=\"Z-Score\")\n",
    "plt.ylabel(\"Z-Score\")\n",
    "\n",
    "ax4 = fig1.add_subplot(111, sharex=ax3, frameon=False)\n",
    "line4 = ax4.plot(Final_Market_Data_df['Date'],Final_Market_Data_df['Closing Price'],'-g', label=\"Z-Score\")\n",
    "ax4.yaxis.tick_right()\n",
    "plt.ylabel('S&P500 Price')\n",
    "\n",
    "plt.grid(True)\n",
    "plt.title('Correl Z-Score vs S&P500 Index')\n"
   ]
  },
  {
   "cell_type": "code",
   "execution_count": null,
   "metadata": {},
   "outputs": [],
   "source": [
    "# Plotting the S&P500\n",
    "\n",
    "# fig = plt.figure(figsize = (20,10))\n",
    "\n",
    "# plt.plot(Final_Market_Data_df['Date'],Final_Market_Data_df['Closing Price'],'-g', label=\"Z-Score\")\n",
    "# plt.grid(True)\n",
    "# plt.title('S&P500')"
   ]
  },
  {
   "cell_type": "code",
   "execution_count": null,
   "metadata": {},
   "outputs": [],
   "source": [
    "My_market_data_df = Final_Market_Data_df"
   ]
  },
  {
   "cell_type": "markdown",
   "metadata": {},
   "source": [
    "## Signal Function"
   ]
  },
  {
   "cell_type": "code",
   "execution_count": null,
   "metadata": {},
   "outputs": [],
   "source": [
    "def my_signal(row):\n",
    "    if row[str(Rolling_window)+ 'Z-Score']>=2.5:\n",
    "        return row[str(Rolling_window)+ 'Z-Score']\n",
    "    elif row[str(Rolling_window)+ 'Z-Score'] <=-2.5:\n",
    "        return row[str(Rolling_window)+ 'Z-Score']\n",
    "    else:\n",
    "        return 0\n",
    "    \n",
    "My_market_data_df['signal'] = My_market_data_df.apply(my_signal, axis=1)"
   ]
  },
  {
   "cell_type": "code",
   "execution_count": null,
   "metadata": {},
   "outputs": [],
   "source": [
    "My_market_data_df"
   ]
  },
  {
   "cell_type": "code",
   "execution_count": null,
   "metadata": {},
   "outputs": [],
   "source": [
    "My_market_data_df.to_csv('final_market_data.csv', encoding = 'utf-8')"
   ]
  },
  {
   "cell_type": "code",
   "execution_count": null,
   "metadata": {},
   "outputs": [],
   "source": [
    "fig1 = plt.figure(figsize = (20,10))\n",
    "\n",
    "ax3 = fig1.add_subplot(111)\n",
    "line3 = ax3.plot(My_market_data_df['Date'],My_market_data_df['signal'],'-r', label=\"Z-Score Signal\")\n",
    "plt.ylabel(\"Z-Score\")\n",
    "\n",
    "ax4 = fig1.add_subplot(111, sharex=ax3, frameon=False)\n",
    "line4 = ax4.plot(My_market_data_df['Date'],My_market_data_df['Closing Price'],'-g', label=\"SP500\")\n",
    "ax4.yaxis.tick_right()\n",
    "plt.ylabel('S&P500 Price')\n",
    "\n",
    "plt.grid(True)\n",
    "plt.title('Correl Z-Score vs S&P500 Index')"
   ]
  },
  {
   "cell_type": "code",
   "execution_count": null,
   "metadata": {},
   "outputs": [],
   "source": []
  },
  {
   "cell_type": "code",
   "execution_count": null,
   "metadata": {},
   "outputs": [],
   "source": []
  },
  {
   "cell_type": "code",
   "execution_count": null,
   "metadata": {},
   "outputs": [],
   "source": []
  },
  {
   "cell_type": "code",
   "execution_count": null,
   "metadata": {},
   "outputs": [],
   "source": []
  },
  {
   "cell_type": "code",
   "execution_count": null,
   "metadata": {},
   "outputs": [],
   "source": [
    "Final_Market_Data_df"
   ]
  },
  {
   "cell_type": "markdown",
   "metadata": {},
   "source": [
    "## 1997-2003"
   ]
  },
  {
   "cell_type": "code",
   "execution_count": null,
   "metadata": {},
   "outputs": [],
   "source": [
    "# Data Frame inputs\n",
    "ltcm_df = My_market_data_df.loc[(My_market_data_df['Date']>='1997-09-09') & (My_market_data_df['Date']<='2003-12-31')]\n",
    "ltcm_df"
   ]
  },
  {
   "cell_type": "code",
   "execution_count": null,
   "metadata": {},
   "outputs": [],
   "source": []
  },
  {
   "cell_type": "code",
   "execution_count": null,
   "metadata": {},
   "outputs": [],
   "source": [
    "fig1 = plt.figure(figsize = (20,10))\n",
    "\n",
    "ax3 = fig1.add_subplot(111)\n",
    "line3 = ax3.plot(ltcm_df['Date'],ltcm_df['signal'],'-r', label=\"Z-Score\")\n",
    "plt.ylabel(\"Z-Score\")\n",
    "\n",
    "ax4 = fig1.add_subplot(111, sharex=ax3, frameon=False)\n",
    "line4 = ax4.plot(ltcm_df['Date'],ltcm_df['Closing Price'],'-g', label=\"Z-Score\")\n",
    "ax4.yaxis.tick_right()\n",
    "plt.ylabel('S&P500 Price')\n",
    "\n",
    "plt.grid(True)\n",
    "plt.title('Correl Z-Score vs S&P500 Index')"
   ]
  },
  {
   "cell_type": "markdown",
   "metadata": {},
   "source": [
    "## Saving to csv"
   ]
  },
  {
   "cell_type": "code",
   "execution_count": null,
   "metadata": {},
   "outputs": [],
   "source": [
    "ltcm_df.to_csv(\"LTCM_period.csv\",encoding='utf-8' )"
   ]
  },
  {
   "cell_type": "markdown",
   "metadata": {},
   "source": [
    "## 2004-2009"
   ]
  },
  {
   "cell_type": "code",
   "execution_count": null,
   "metadata": {},
   "outputs": [],
   "source": [
    "financial_crisis_df = Final_Market_Data_df.loc[(Final_Market_Data_df['Date']>='2004-01-01') & (Final_Market_Data_df['Date']<='2009-12-31')]\n",
    "financial_crisis_df"
   ]
  },
  {
   "cell_type": "code",
   "execution_count": null,
   "metadata": {},
   "outputs": [],
   "source": [
    "fig1 = plt.figure(figsize = (20,10))\n",
    "\n",
    "ax3 = fig1.add_subplot(111)\n",
    "line3 = ax3.plot(financial_crisis_df['Date'],financial_crisis_df[str(Rolling_window)+ 'Z-Score'],'-r', label=\"Z-Score\")\n",
    "plt.ylabel(\"Z-Score\")\n",
    "\n",
    "ax4 = fig1.add_subplot(111, sharex=ax3, frameon=False)\n",
    "line4 = ax4.plot(financial_crisis_df['Date'],financial_crisis_df['Closing Price'],'-g', label=\"Z-Score\")\n",
    "ax4.yaxis.tick_right()\n",
    "plt.ylabel('S&P500 Price')\n",
    "\n",
    "plt.grid(True)\n",
    "plt.title('Correl Z-Score vs S&P500 Index')"
   ]
  },
  {
   "cell_type": "markdown",
   "metadata": {},
   "source": [
    "## 2010-2015"
   ]
  },
  {
   "cell_type": "code",
   "execution_count": null,
   "metadata": {},
   "outputs": [],
   "source": [
    "recovery_df = Final_Market_Data_df.loc[(Final_Market_Data_df['Date']>='2010-01-01') & (Final_Market_Data_df['Date']<='2015-12-31')]\n",
    "recovery_df"
   ]
  },
  {
   "cell_type": "code",
   "execution_count": null,
   "metadata": {},
   "outputs": [],
   "source": [
    "fig1 = plt.figure(figsize = (20,10))\n",
    "\n",
    "ax3 = fig1.add_subplot(111)\n",
    "line3 = ax3.plot(recovery_df['Date'],recovery_df[str(Rolling_window)+ 'Z-Score'],'-r', label=\"Z-Score\")\n",
    "plt.ylabel(\"Z-Score\")\n",
    "\n",
    "ax4 = fig1.add_subplot(111, sharex=ax3, frameon=False)\n",
    "line4 = ax4.plot(recovery_df['Date'],recovery_df['Closing Price'],'-g', label=\"Z-Score\")\n",
    "ax4.yaxis.tick_right()\n",
    "plt.ylabel('S&P500 Price')\n",
    "\n",
    "plt.grid(True)\n",
    "plt.title('Correl Z-Score vs S&P500 Index')"
   ]
  },
  {
   "cell_type": "markdown",
   "metadata": {},
   "source": [
    "## 2016-2020"
   ]
  },
  {
   "cell_type": "code",
   "execution_count": null,
   "metadata": {},
   "outputs": [],
   "source": [
    "latest_df = Final_Market_Data_df.loc[(Final_Market_Data_df['Date']>='2016-01-01') & (Final_Market_Data_df['Date']<='2020-06-11')]\n",
    "latest_df"
   ]
  },
  {
   "cell_type": "code",
   "execution_count": null,
   "metadata": {
    "scrolled": true
   },
   "outputs": [],
   "source": [
    "fig1 = plt.figure(figsize = (20,10))\n",
    "\n",
    "ax3 = fig1.add_subplot(111)\n",
    "line3 = ax3.plot(latest_df['Date'],latest_df[str(Rolling_window)+ 'Z-Score'],'-r', label=\"Z-Score\")\n",
    "plt.ylabel(\"Z-Score\")\n",
    "\n",
    "ax4 = fig1.add_subplot(111, sharex=ax3, frameon=False)\n",
    "line4 = ax4.plot(latest_df['Date'],latest_df['Closing Price'],'-g', label=\"Z-Score\")\n",
    "ax4.yaxis.tick_right()\n",
    "plt.ylabel('S&P500 Price')\n",
    "\n",
    "plt.grid(True)\n",
    "plt.title('Correl Z-Score vs S&P500 Index')"
   ]
  },
  {
   "cell_type": "markdown",
   "metadata": {},
   "source": [
    "## Yield Spread Ratio Analysis"
   ]
  },
  {
   "cell_type": "code",
   "execution_count": null,
   "metadata": {},
   "outputs": [],
   "source": [
    "Ratio_df = Final_Market_Data_df"
   ]
  },
  {
   "cell_type": "code",
   "execution_count": null,
   "metadata": {},
   "outputs": [],
   "source": [
    "# Calculate the Junk Bond to Treasury Yield Ratio\n",
    "Ratio_df['Junk/Treasury'] = Ratio_df['B Rating'] / Ratio_df['5 Year Rate']"
   ]
  },
  {
   "cell_type": "code",
   "execution_count": null,
   "metadata": {},
   "outputs": [],
   "source": [
    "# Calculate the historical Volatilities of the ratio\n",
    "vol_window = [21,55,100]\n",
    "daily_vol = np.sqrt(252)\n",
    "\n",
    "for vol in vol_window:\n",
    "    Ratio_df[str(vol) + 'day vol'] = Ratio_df['Junk/Treasury'].rolling(vol).std()*daily_vol\n"
   ]
  },
  {
   "cell_type": "code",
   "execution_count": null,
   "metadata": {},
   "outputs": [],
   "source": [
    "print(daily_vol)\n",
    "print(np.sqrt(252))"
   ]
  },
  {
   "cell_type": "code",
   "execution_count": null,
   "metadata": {},
   "outputs": [],
   "source": [
    "Ratio_df.head(100)"
   ]
  },
  {
   "cell_type": "code",
   "execution_count": null,
   "metadata": {},
   "outputs": [],
   "source": [
    "# Scatter Plot\n",
    "fig = plt.figure(figsize = (20,10))\n",
    "\n",
    "plt.scatter(x = Ratio_df['Yield Spread Returns'],\n",
    "            y = Ratio_df['S&P 500 Returns'])\n",
    "plt.grid(True)\n",
    "plt.title('Yield Spread Return vs S&P500 Returns Scatter')\n",
    "plt.xlabel('S&P500 Returns')\n",
    "plt.ylabel('Yield Spread Returns')"
   ]
  },
  {
   "cell_type": "markdown",
   "metadata": {},
   "source": [
    "## Correlation S&P500 Returns vs Yield Spread Returns"
   ]
  },
  {
   "cell_type": "code",
   "execution_count": null,
   "metadata": {},
   "outputs": [],
   "source": [
    "# Correlation\n",
    "x = Ratio_df['Yield Spread Returns'].dropna()\n",
    "y = Ratio_df['S&P 500 Returns'].dropna()\n",
    "\n",
    "print(pearsonr(x,y))"
   ]
  },
  {
   "cell_type": "markdown",
   "metadata": {},
   "source": [
    "## Linear Regression S&P500 Returns vs Yield Spread Returns"
   ]
  },
  {
   "cell_type": "code",
   "execution_count": null,
   "metadata": {},
   "outputs": [],
   "source": [
    "# Variables for the regression\n",
    "x_values = Ratio_df['Yield Spread Returns'].dropna()\n",
    "y_values = Ratio_df['S&P 500 Returns'].dropna()\n",
    "\n",
    "(slope, intercept, rvalue, pvalue, stderr) = linregress(x_values, y_values)\n",
    "\n",
    "regress_values = x_values * slope + intercept\n",
    "line_eq = \"y = \" + str(round(slope,1)) + \"x + \" + str(round(intercept,1))\n",
    "\n",
    "plt.scatter(x_values,y_values)\n",
    "plt.plot(x_values,regress_values,\"r-\")\n",
    "plt.annotate(line_eq,(0.002, 0),fontsize=15,color=\"red\")\n",
    "plt.xlabel('Yield Spread Return')\n",
    "plt.ylabel(\"S&P 500 Returns\")\n",
    "\n",
    "print(f\"rvalue    = {round(rvalue, 3)}\")\n",
    "print(f\"r-squared = {round(rvalue**2, 3)}\")\n",
    "\n",
    "plt.show()"
   ]
  },
  {
   "cell_type": "code",
   "execution_count": null,
   "metadata": {},
   "outputs": [],
   "source": [
    "Ratio_df['S&P 500 Returns'].hist()"
   ]
  },
  {
   "cell_type": "code",
   "execution_count": null,
   "metadata": {},
   "outputs": [],
   "source": [
    "Ratio_df['Yield Spread Returns'].hist()"
   ]
  },
  {
   "cell_type": "code",
   "execution_count": null,
   "metadata": {},
   "outputs": [],
   "source": [
    "x = Ratio_df['Yield Spread']\n",
    "x"
   ]
  },
  {
   "cell_type": "code",
   "execution_count": null,
   "metadata": {},
   "outputs": [],
   "source": [
    "x.diff(periods=1)"
   ]
  },
  {
   "cell_type": "markdown",
   "metadata": {},
   "source": [
    "## Adding Yield Spread Absolute Change"
   ]
  },
  {
   "cell_type": "code",
   "execution_count": null,
   "metadata": {},
   "outputs": [],
   "source": [
    "Ratio_df['Change in bps'] = Ratio_df['Yield Spread'].diff(periods=1)*100"
   ]
  },
  {
   "cell_type": "code",
   "execution_count": null,
   "metadata": {},
   "outputs": [],
   "source": [
    "Ratio_df"
   ]
  },
  {
   "cell_type": "code",
   "execution_count": null,
   "metadata": {},
   "outputs": [],
   "source": [
    "fig = plt.figure(figsize = (20,10))\n",
    "\n",
    "plt.scatter(x = Ratio_df['Change in bps'],\n",
    "            y = Ratio_df['S&P 500 Returns'])\n",
    "plt.grid(True)\n",
    "plt.title('Scatter Plot S&P500 Returns vs Yield Spread Absolute Change')\n",
    "plt.xlabel('Change in bps')\n",
    "plt.ylabel('S&P 500 Returns')"
   ]
  },
  {
   "cell_type": "code",
   "execution_count": null,
   "metadata": {},
   "outputs": [],
   "source": [
    "# Correlation\n",
    "x = Ratio_df['Change in bps'].dropna()\n",
    "y = Ratio_df['S&P 500 Returns'].dropna()\n",
    "\n",
    "print(pearsonr(x,y))"
   ]
  },
  {
   "cell_type": "code",
   "execution_count": null,
   "metadata": {},
   "outputs": [],
   "source": [
    "# Plotting the Spread\n",
    "fig = plt.figure(figsize = (20,10))\n",
    "\n",
    "plt.plot(Ratio_df['Date'],Ratio_df['Change in bps'],'-g', label=\"Yield Spread\")\n",
    "plt.grid(True)\n",
    "plt.title('Spread Change in bps')\n",
    "\n"
   ]
  },
  {
   "cell_type": "markdown",
   "metadata": {},
   "source": [
    "## Adding SP500 Historical Vol"
   ]
  },
  {
   "cell_type": "code",
   "execution_count": null,
   "metadata": {},
   "outputs": [],
   "source": [
    "Ratio_df"
   ]
  },
  {
   "cell_type": "code",
   "execution_count": null,
   "metadata": {},
   "outputs": [],
   "source": [
    "# Calculate the historical Volatilities of the ratio\n",
    "vol_window = [21,55,100]\n",
    "daily_vol = np.sqrt(252)\n",
    "\n",
    "for vol in vol_window:\n",
    "    Ratio_df[str(vol) + 'day vol'] = Ratio_df['Junk/Treasury'].rolling(vol).std()*daily_vol"
   ]
  }
 ],
 "metadata": {
  "kernelspec": {
   "display_name": "Python 3",
   "language": "python",
   "name": "python3"
  },
  "language_info": {
   "codemirror_mode": {
    "name": "ipython",
    "version": 3
   },
   "file_extension": ".py",
   "mimetype": "text/x-python",
   "name": "python",
   "nbconvert_exporter": "python",
   "pygments_lexer": "ipython3",
   "version": "3.7.4"
  }
 },
 "nbformat": 4,
 "nbformat_minor": 2
}
